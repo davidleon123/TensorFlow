{
  "cells": [
    {
      "cell_type": "markdown",
      "metadata": {
        "id": "J4M6C7Cmo-G_"
      },
      "source": [
        "# Capstone Project\n",
        "## Neural translation model\n",
        "### Instructions\n",
        "\n",
        "In this notebook, you will create a neural network that translates from English to German. You will use concepts from throughout this course, including building more flexible model architectures, freezing layers, data processing pipeline and sequence modelling.\n",
        "\n",
        "This project is peer-assessed. Within this notebook you will find instructions in each section for how to complete the project. Pay close attention to the instructions as the peer review will be carried out according to a grading rubric that checks key parts of the project instructions. Feel free to add extra cells into the notebook as required.\n",
        "\n",
        "### How to submit\n",
        "\n",
        "When you have completed the Capstone project notebook, you will submit a pdf of the notebook for peer review. First ensure that the notebook has been fully executed from beginning to end, and all of the cell outputs are visible. This is important, as the grading rubric depends on the reviewer being able to view the outputs of your notebook. Save the notebook as a pdf (File -> Download as -> PDF via LaTeX). You should then submit this pdf for review.\n",
        "\n",
        "### Let's get started!\n",
        "\n",
        "We'll start by running some imports, and loading the dataset. For this project you are free to make further imports throughout the notebook as you wish. "
      ]
    },
    {
      "cell_type": "code",
      "source": [
        "# Run this cell to connect to your Drive folder\n",
        "\n",
        "from google.colab import drive\n",
        "drive.mount(\"/content/gdrive\", force_remount=True)"
      ],
      "metadata": {
        "colab": {
          "base_uri": "https://localhost:8080/"
        },
        "id": "7715lNjj1CgY",
        "outputId": "4dd89635-88f3-40c0-d2b6-628f3d436731"
      },
      "execution_count": 1,
      "outputs": [
        {
          "output_type": "stream",
          "name": "stdout",
          "text": [
            "Mounted at /content/gdrive\n"
          ]
        }
      ]
    },
    {
      "cell_type": "code",
      "source": [
        "!pip install numpy==1.18.4"
      ],
      "metadata": {
        "colab": {
          "base_uri": "https://localhost:8080/"
        },
        "id": "DhXpnxygW-aX",
        "outputId": "bd6cb385-2205-4160-8580-93f914203bd0"
      },
      "execution_count": 2,
      "outputs": [
        {
          "output_type": "stream",
          "name": "stdout",
          "text": [
            "Looking in indexes: https://pypi.org/simple, https://us-python.pkg.dev/colab-wheels/public/simple/\n",
            "Requirement already satisfied: numpy==1.18.4 in /usr/local/lib/python3.7/dist-packages (1.18.4)\n"
          ]
        }
      ]
    },
    {
      "cell_type": "code",
      "source": [
        "!pip install tensorflow==2.0"
      ],
      "metadata": {
        "colab": {
          "base_uri": "https://localhost:8080/"
        },
        "id": "urP1kM8mHUFe",
        "outputId": "62b1b7ea-5e32-4701-829a-2ee6a73bef0c"
      },
      "execution_count": 3,
      "outputs": [
        {
          "output_type": "stream",
          "name": "stdout",
          "text": [
            "Looking in indexes: https://pypi.org/simple, https://us-python.pkg.dev/colab-wheels/public/simple/\n",
            "Requirement already satisfied: tensorflow==2.0 in /usr/local/lib/python3.7/dist-packages (2.0.0)\n",
            "Requirement already satisfied: gast==0.2.2 in /usr/local/lib/python3.7/dist-packages (from tensorflow==2.0) (0.2.2)\n",
            "Requirement already satisfied: tensorboard<2.1.0,>=2.0.0 in /usr/local/lib/python3.7/dist-packages (from tensorflow==2.0) (2.0.2)\n",
            "Requirement already satisfied: protobuf>=3.6.1 in /usr/local/lib/python3.7/dist-packages (from tensorflow==2.0) (3.17.3)\n",
            "Requirement already satisfied: opt-einsum>=2.3.2 in /usr/local/lib/python3.7/dist-packages (from tensorflow==2.0) (3.3.0)\n",
            "Requirement already satisfied: keras-applications>=1.0.8 in /usr/local/lib/python3.7/dist-packages (from tensorflow==2.0) (1.0.8)\n",
            "Requirement already satisfied: numpy<2.0,>=1.16.0 in /usr/local/lib/python3.7/dist-packages (from tensorflow==2.0) (1.18.4)\n",
            "Requirement already satisfied: tensorflow-estimator<2.1.0,>=2.0.0 in /usr/local/lib/python3.7/dist-packages (from tensorflow==2.0) (2.0.1)\n",
            "Requirement already satisfied: termcolor>=1.1.0 in /usr/local/lib/python3.7/dist-packages (from tensorflow==2.0) (1.1.0)\n",
            "Requirement already satisfied: wrapt>=1.11.1 in /usr/local/lib/python3.7/dist-packages (from tensorflow==2.0) (1.14.1)\n",
            "Requirement already satisfied: google-pasta>=0.1.6 in /usr/local/lib/python3.7/dist-packages (from tensorflow==2.0) (0.2.0)\n",
            "Requirement already satisfied: wheel>=0.26 in /usr/local/lib/python3.7/dist-packages (from tensorflow==2.0) (0.37.1)\n",
            "Requirement already satisfied: absl-py>=0.7.0 in /usr/local/lib/python3.7/dist-packages (from tensorflow==2.0) (1.2.0)\n",
            "Requirement already satisfied: keras-preprocessing>=1.0.5 in /usr/local/lib/python3.7/dist-packages (from tensorflow==2.0) (1.1.2)\n",
            "Requirement already satisfied: astor>=0.6.0 in /usr/local/lib/python3.7/dist-packages (from tensorflow==2.0) (0.8.1)\n",
            "Requirement already satisfied: six>=1.10.0 in /usr/local/lib/python3.7/dist-packages (from tensorflow==2.0) (1.15.0)\n",
            "Requirement already satisfied: grpcio>=1.8.6 in /usr/local/lib/python3.7/dist-packages (from tensorflow==2.0) (1.47.0)\n",
            "Requirement already satisfied: h5py in /usr/local/lib/python3.7/dist-packages (from keras-applications>=1.0.8->tensorflow==2.0) (3.1.0)\n",
            "Requirement already satisfied: setuptools>=41.0.0 in /usr/local/lib/python3.7/dist-packages (from tensorboard<2.1.0,>=2.0.0->tensorflow==2.0) (57.4.0)\n",
            "Requirement already satisfied: google-auth-oauthlib<0.5,>=0.4.1 in /usr/local/lib/python3.7/dist-packages (from tensorboard<2.1.0,>=2.0.0->tensorflow==2.0) (0.4.6)\n",
            "Requirement already satisfied: werkzeug>=0.11.15 in /usr/local/lib/python3.7/dist-packages (from tensorboard<2.1.0,>=2.0.0->tensorflow==2.0) (1.0.1)\n",
            "Requirement already satisfied: google-auth<2,>=1.6.3 in /usr/local/lib/python3.7/dist-packages (from tensorboard<2.1.0,>=2.0.0->tensorflow==2.0) (1.35.0)\n",
            "Requirement already satisfied: requests<3,>=2.21.0 in /usr/local/lib/python3.7/dist-packages (from tensorboard<2.1.0,>=2.0.0->tensorflow==2.0) (2.23.0)\n",
            "Requirement already satisfied: markdown>=2.6.8 in /usr/local/lib/python3.7/dist-packages (from tensorboard<2.1.0,>=2.0.0->tensorflow==2.0) (3.4.1)\n",
            "Requirement already satisfied: rsa<5,>=3.1.4 in /usr/local/lib/python3.7/dist-packages (from google-auth<2,>=1.6.3->tensorboard<2.1.0,>=2.0.0->tensorflow==2.0) (4.9)\n",
            "Requirement already satisfied: cachetools<5.0,>=2.0.0 in /usr/local/lib/python3.7/dist-packages (from google-auth<2,>=1.6.3->tensorboard<2.1.0,>=2.0.0->tensorflow==2.0) (4.2.4)\n",
            "Requirement already satisfied: pyasn1-modules>=0.2.1 in /usr/local/lib/python3.7/dist-packages (from google-auth<2,>=1.6.3->tensorboard<2.1.0,>=2.0.0->tensorflow==2.0) (0.2.8)\n",
            "Requirement already satisfied: requests-oauthlib>=0.7.0 in /usr/local/lib/python3.7/dist-packages (from google-auth-oauthlib<0.5,>=0.4.1->tensorboard<2.1.0,>=2.0.0->tensorflow==2.0) (1.3.1)\n",
            "Requirement already satisfied: importlib-metadata>=4.4 in /usr/local/lib/python3.7/dist-packages (from markdown>=2.6.8->tensorboard<2.1.0,>=2.0.0->tensorflow==2.0) (4.12.0)\n",
            "Requirement already satisfied: typing-extensions>=3.6.4 in /usr/local/lib/python3.7/dist-packages (from importlib-metadata>=4.4->markdown>=2.6.8->tensorboard<2.1.0,>=2.0.0->tensorflow==2.0) (4.1.1)\n",
            "Requirement already satisfied: zipp>=0.5 in /usr/local/lib/python3.7/dist-packages (from importlib-metadata>=4.4->markdown>=2.6.8->tensorboard<2.1.0,>=2.0.0->tensorflow==2.0) (3.8.1)\n",
            "Requirement already satisfied: pyasn1<0.5.0,>=0.4.6 in /usr/local/lib/python3.7/dist-packages (from pyasn1-modules>=0.2.1->google-auth<2,>=1.6.3->tensorboard<2.1.0,>=2.0.0->tensorflow==2.0) (0.4.8)\n",
            "Requirement already satisfied: urllib3!=1.25.0,!=1.25.1,<1.26,>=1.21.1 in /usr/local/lib/python3.7/dist-packages (from requests<3,>=2.21.0->tensorboard<2.1.0,>=2.0.0->tensorflow==2.0) (1.24.3)\n",
            "Requirement already satisfied: certifi>=2017.4.17 in /usr/local/lib/python3.7/dist-packages (from requests<3,>=2.21.0->tensorboard<2.1.0,>=2.0.0->tensorflow==2.0) (2022.6.15)\n",
            "Requirement already satisfied: chardet<4,>=3.0.2 in /usr/local/lib/python3.7/dist-packages (from requests<3,>=2.21.0->tensorboard<2.1.0,>=2.0.0->tensorflow==2.0) (3.0.4)\n",
            "Requirement already satisfied: idna<3,>=2.5 in /usr/local/lib/python3.7/dist-packages (from requests<3,>=2.21.0->tensorboard<2.1.0,>=2.0.0->tensorflow==2.0) (2.10)\n",
            "Requirement already satisfied: oauthlib>=3.0.0 in /usr/local/lib/python3.7/dist-packages (from requests-oauthlib>=0.7.0->google-auth-oauthlib<0.5,>=0.4.1->tensorboard<2.1.0,>=2.0.0->tensorflow==2.0) (3.2.0)\n",
            "Requirement already satisfied: cached-property in /usr/local/lib/python3.7/dist-packages (from h5py->keras-applications>=1.0.8->tensorflow==2.0) (1.5.2)\n"
          ]
        }
      ]
    },
    {
      "cell_type": "code",
      "source": [
        "!ls \"/content/gdrive/My Drive/Colab Notebooks/Tensorflow_2/data\""
      ],
      "metadata": {
        "colab": {
          "base_uri": "https://localhost:8080/"
        },
        "id": "CgpLmlMH_RMh",
        "outputId": "b0d40bc6-aa4a-480c-9e19-64921c2f7c6e"
      },
      "execution_count": 4,
      "outputs": [
        {
          "output_type": "stream",
          "name": "stdout",
          "text": [
            "deu.txt\n"
          ]
        }
      ]
    },
    {
      "cell_type": "code",
      "execution_count": 5,
      "metadata": {
        "id": "FwhmnmFso-HE"
      },
      "outputs": [],
      "source": [
        "import tensorflow as tf\n",
        "import tensorflow_hub as hub\n",
        "import unicodedata\n",
        "import re\n",
        "import numpy as np\n",
        "from sklearn.model_selection import train_test_split\n",
        "from tensorflow.keras.layers import Layer, Masking, LSTM, Input, Embedding, Dense\n",
        "from tensorflow.keras.models import Model, load_model\n",
        "import time\n",
        "import datetime\n",
        "from IPython.display import Image\n",
        "import matplotlib.pyplot as plt\n",
        "%matplotlib inline\n"
      ]
    },
    {
      "cell_type": "code",
      "source": [
        "tf.__version__"
      ],
      "metadata": {
        "colab": {
          "base_uri": "https://localhost:8080/",
          "height": 36
        },
        "id": "TiEIYbxaqeLD",
        "outputId": "1eec279a-2cdd-4063-e0d5-b3091c5d6e0a"
      },
      "execution_count": 6,
      "outputs": [
        {
          "output_type": "execute_result",
          "data": {
            "text/plain": [
              "'2.0.0'"
            ],
            "application/vnd.google.colaboratory.intrinsic+json": {
              "type": "string"
            }
          },
          "metadata": {},
          "execution_count": 6
        }
      ]
    },
    {
      "cell_type": "code",
      "source": [
        "mypath = \"/content/gdrive/My Drive/Colab Notebooks/Tensorflow_2/\"\n",
        "\n",
        "\n"
      ],
      "metadata": {
        "id": "KYyA9QbCwCST"
      },
      "execution_count": 7,
      "outputs": []
    },
    {
      "cell_type": "code",
      "source": [
        "Image(\"/content/gdrive/My Drive/Colab Notebooks/Tensorflow_2/germany_uk_flags.png\")"
      ],
      "metadata": {
        "colab": {
          "base_uri": "https://localhost:8080/",
          "height": 274
        },
        "id": "Fh5bpzbasl0u",
        "outputId": "5c529c7f-f703-4b8b-f8af-7a0618778409"
      },
      "execution_count": 8,
      "outputs": [
        {
          "output_type": "execute_result",
          "data": {
            "image/png": "[encoded data removed]",
            "text/plain": [
              "<IPython.core.display.Image object>"
            ]
          },
          "metadata": {},
          "execution_count": 8
        }
      ]
    },
    {
      "cell_type": "markdown",
      "metadata": {
        "id": "3zAHAP7Eo-HG"
      },
      "source": [
        "\n",
        "\n",
        "For the capstone project, you will use a language dataset from http://www.manythings.org/anki/ to build a neural translation model. This dataset consists of over 200,000 pairs of sentences in English and German. In order to make the training quicker, we will restrict to our dataset to 20,000 pairs. Feel free to change this if you wish - the size of the dataset used is not part of the grading rubric.\n",
        "\n",
        "Your goal is to develop a neural translation model from English to German, making use of a pre-trained English word embedding module."
      ]
    },
    {
      "cell_type": "code",
      "execution_count": 9,
      "metadata": {
        "id": "p1TTAI2Bo-HH"
      },
      "outputs": [],
      "source": [
        "# Run this cell to load the dataset\n",
        "\n",
        "#NUM_EXAMPLES = 20000\n",
        "NUM_EXAMPLES = 4000\n",
        "data_examples = []\n",
        "with open(\"/content/gdrive/My Drive/Colab Notebooks/Tensorflow_2/data/deu.txt\", 'r', encoding='utf8') as f:\n",
        "    for line in f.readlines():\n",
        "        if len(data_examples) < NUM_EXAMPLES:\n",
        "            data_examples.append(line)\n",
        "        else:\n",
        "            break"
      ]
    },
    {
      "cell_type": "code",
      "execution_count": 10,
      "metadata": {
        "id": "9_AsQGCJo-HI"
      },
      "outputs": [],
      "source": [
        "# These functions preprocess English and German sentences\n",
        "\n",
        "def unicode_to_ascii(s):\n",
        "    return ''.join(c for c in unicodedata.normalize('NFD', s) if unicodedata.category(c) != 'Mn')\n",
        "\n",
        "def preprocess_sentence(sentence):\n",
        "    sentence = sentence.lower().strip()\n",
        "    sentence = re.sub(r\"ü\", 'ue', sentence)\n",
        "    sentence = re.sub(r\"ä\", 'ae', sentence)\n",
        "    sentence = re.sub(r\"ö\", 'oe', sentence)\n",
        "    sentence = re.sub(r'ß', 'ss', sentence)\n",
        "    \n",
        "    sentence = unicode_to_ascii(sentence)\n",
        "    sentence = re.sub(r\"([?.!,])\", r\" \\1 \", sentence)\n",
        "    sentence = re.sub(r\"[^a-z?.!,']+\", \" \", sentence)\n",
        "    sentence = re.sub(r'[\" \"]+', \" \", sentence)\n",
        "    \n",
        "    return sentence.strip()"
      ]
    },
    {
      "cell_type": "markdown",
      "metadata": {
        "id": "8Z1WoyGqo-HJ"
      },
      "source": [
        "#### The custom translation model\n",
        "The following is a schematic of the custom translation model architecture you will develop in this project.\n"
      ]
    },
    {
      "cell_type": "code",
      "source": [
        "Image(mypath+'schematic.png')"
      ],
      "metadata": {
        "colab": {
          "base_uri": "https://localhost:8080/",
          "height": 646
        },
        "id": "i9swd8meEORq",
        "outputId": "365741c5-7ea2-44fd-fba6-bb53225c8627"
      },
      "execution_count": 11,
      "outputs": [
        {
          "output_type": "execute_result",
          "data": {
            "image/png": "[encoded data removed]",
            "text/plain": [
              "<IPython.core.display.Image object>"
            ]
          },
          "metadata": {},
          "execution_count": 11
        }
      ]
    },
    {
      "cell_type": "markdown",
      "source": [
        "\n",
        "\n",
        "\n",
        "The custom model consists of an encoder RNN and a decoder RNN. The encoder takes words of an English sentence as input, and uses a pre-trained word embedding to embed the words into a 128-dimensional space. To indicate the end of the input sentence, a special end token (in the same 128-dimensional space) is passed in as an input. This token is a TensorFlow Variable that is learned in the training phase (unlike the pre-trained word embedding, which is frozen).\n",
        "\n",
        "The decoder RNN takes the internal state of the encoder network as its initial state. A start token is passed in as the first input, which is embedded using a learned German word embedding. The decoder RNN then makes a prediction for the next German word, which during inference is then passed in as the following input, and this process is repeated until the special `<end>` token is emitted from the decoder."
      ],
      "metadata": {
        "id": "xlj8drsKDrkA"
      }
    },
    {
      "cell_type": "markdown",
      "metadata": {
        "id": "bQAPU2gNo-HK"
      },
      "source": [
        "## 1. Text preprocessing\n",
        "* Create separate lists of English and German sentences, and preprocess them using the `preprocess_sentence` function provided for you above.\n",
        "* Add a special `\"<start>\"` and `\"<end>\"` token to the beginning and end of every German sentence.\n",
        "* Use the Tokenizer class from the `tf.keras.preprocessing.text` module to tokenize the German sentences, ensuring that no character filters are applied. _Hint: use the Tokenizer's \"filter\" keyword argument._\n",
        "* Print out at least 5 randomly chosen examples of (preprocessed) English and German sentence pairs. For the German sentence, print out the text (with start and end tokens) as well as the tokenized sequence.\n",
        "* Pad the end of the tokenized German sequences with zeros, and batch the complete set of sequences into one numpy array."
      ]
    },
    {
      "cell_type": "code",
      "execution_count": 12,
      "metadata": {
        "scrolled": true,
        "id": "6j6lQCoyo-HL",
        "outputId": "c1f18050-6bfe-49f7-ad1f-eaad8d127325",
        "colab": {
          "base_uri": "https://localhost:8080/"
        }
      },
      "outputs": [
        {
          "output_type": "execute_result",
          "data": {
            "text/plain": [
              "['Hi.\\tHallo!\\tCC-BY 2.0 (France) Attribution: tatoeba.org #538123 (CM) & #380701 (cburgmer)\\n',\n",
              " 'Hi.\\tGrüß Gott!\\tCC-BY 2.0 (France) Attribution: tatoeba.org #538123 (CM) & #659813 (Esperantostern)\\n',\n",
              " 'Run!\\tLauf!\\tCC-BY 2.0 (France) Attribution: tatoeba.org #906328 (papabear) & #941078 (Fingerhut)\\n',\n",
              " 'Wow!\\tPotzdonner!\\tCC-BY 2.0 (France) Attribution: tatoeba.org #52027 (Zifre) & #2122382 (Pfirsichbaeumchen)\\n',\n",
              " 'Wow!\\tDonnerwetter!\\tCC-BY 2.0 (France) Attribution: tatoeba.org #52027 (Zifre) & #2122391 (Pfirsichbaeumchen)\\n',\n",
              " 'Fire!\\tFeuer!\\tCC-BY 2.0 (France) Attribution: tatoeba.org #1829639 (Spamster) & #1958697 (Tamy)\\n',\n",
              " 'Help!\\tHilfe!\\tCC-BY 2.0 (France) Attribution: tatoeba.org #435084 (lukaszpp) & #575889 (MUIRIEL)\\n',\n",
              " 'Help!\\tZu Hülf!\\tCC-BY 2.0 (France) Attribution: tatoeba.org #435084 (lukaszpp) & #2122375 (Pfirsichbaeumchen)\\n',\n",
              " 'Stop!\\tStopp!\\tCC-BY 2.0 (France) Attribution: tatoeba.org #448320 (FeuDRenais) & #626467 (jakov)\\n',\n",
              " 'Wait!\\tWarte!\\tCC-BY 2.0 (France) Attribution: tatoeba.org #1744314 (belgavox) & #2122378 (Pfirsichbaeumchen)\\n']"
            ]
          },
          "metadata": {},
          "execution_count": 12
        }
      ],
      "source": [
        "data_examples[:10]"
      ]
    },
    {
      "cell_type": "code",
      "execution_count": 13,
      "metadata": {
        "id": "m2x3cwXso-HN"
      },
      "outputs": [],
      "source": [
        "data_examples = (example.split(sep = '\\t')[:2] for example in data_examples)"
      ]
    },
    {
      "cell_type": "code",
      "execution_count": 14,
      "metadata": {
        "id": "VQZeloKAo-HO"
      },
      "outputs": [],
      "source": [
        "eng_sentences, ger_sentences = zip(*data_examples)"
      ]
    },
    {
      "cell_type": "code",
      "execution_count": 15,
      "metadata": {
        "id": "z83Wmn9Po-HP"
      },
      "outputs": [],
      "source": [
        "#eng_sentences[:10]\n"
      ]
    },
    {
      "cell_type": "code",
      "execution_count": 16,
      "metadata": {
        "id": "Yq8U61jbo-HQ"
      },
      "outputs": [],
      "source": [
        "#ger_sentences[:10]"
      ]
    },
    {
      "cell_type": "code",
      "execution_count": 17,
      "metadata": {
        "id": "vCPJHZYGo-HR"
      },
      "outputs": [],
      "source": [
        "eng_sentences = list(eng_sentences)\n",
        "ger_sentences = list(ger_sentences)\n",
        "\n",
        "eng_sentences = [preprocess_sentence(s) for s in eng_sentences]\n",
        "ger_sentences = [preprocess_sentence(s) for s in ger_sentences]"
      ]
    },
    {
      "cell_type": "code",
      "execution_count": 18,
      "metadata": {
        "id": "hiejJxpEo-HS"
      },
      "outputs": [],
      "source": [
        "ger_sentences = [''.join(['<start> ' , s, ' <end>']) for s in ger_sentences]\n"
      ]
    },
    {
      "cell_type": "code",
      "execution_count": 19,
      "metadata": {
        "id": "HI8QbgnNo-HS"
      },
      "outputs": [],
      "source": [
        "tokenizer = tf.keras.preprocessing.text.Tokenizer(filters='')\n",
        "tokenizer.fit_on_texts(ger_sentences)\n",
        "\n",
        "tokenised_ger_sentences = tokenizer.texts_to_sequences(ger_sentences)"
      ]
    },
    {
      "cell_type": "code",
      "execution_count": 20,
      "metadata": {
        "id": "jDVO4-hso-HT"
      },
      "outputs": [],
      "source": [
        "#tokenizer.word_index"
      ]
    },
    {
      "cell_type": "code",
      "execution_count": 21,
      "metadata": {
        "id": "jmc1gFwZo-HT"
      },
      "outputs": [],
      "source": [
        "#len(tokenizer.word_index)"
      ]
    },
    {
      "cell_type": "code",
      "execution_count": 22,
      "metadata": {
        "id": "85MKg4NSo-HU"
      },
      "outputs": [],
      "source": [
        "#tokenizer.word_index[max(tokenizer.word_index, key = lambda w: tokenizer.word_index[w])]"
      ]
    },
    {
      "cell_type": "code",
      "execution_count": 23,
      "metadata": {
        "id": "sPWcYvMqo-HU",
        "outputId": "4f9d601b-e1de-4912-cc4d-da228dd5ff27",
        "colab": {
          "base_uri": "https://localhost:8080/"
        }
      },
      "outputs": [
        {
          "output_type": "stream",
          "name": "stdout",
          "text": [
            "EXAMPLE 1\n",
            "\n",
            "English sentence: i'm game .\n",
            "\n",
            "German sentence: <start> ich bin dabei . <end>\n",
            "\n",
            "Tokenised German sentence: [1, 4, 11, 192, 3, 2]\n",
            "\n",
            "\n",
            "EXAMPLE 2\n",
            "\n",
            "English sentence: i smell gas .\n",
            "\n",
            "German sentence: <start> ich rieche gas . <end>\n",
            "\n",
            "Tokenised German sentence: [1, 4, 823, 765, 3, 2]\n",
            "\n",
            "\n",
            "EXAMPLE 3\n",
            "\n",
            "English sentence: happy easter !\n",
            "\n",
            "German sentence: <start> frohe ostern ! <end>\n",
            "\n",
            "Tokenised German sentence: [1, 1607, 906, 5, 2]\n",
            "\n",
            "\n",
            "EXAMPLE 4\n",
            "\n",
            "English sentence: find a job .\n",
            "\n",
            "German sentence: <start> besorgt euch einen job . <end>\n",
            "\n",
            "Tokenised German sentence: [1, 1122, 56, 62, 409, 3, 2]\n",
            "\n",
            "\n",
            "EXAMPLE 5\n",
            "\n",
            "English sentence: it's hard .\n",
            "\n",
            "German sentence: <start> das ist hart . <end>\n",
            "\n",
            "Tokenised German sentence: [1, 12, 7, 511, 3, 2]\n",
            "\n",
            "\n"
          ]
        }
      ],
      "source": [
        "inx = np.random.choice(NUM_EXAMPLES, 5)\n",
        "for i,s in enumerate(inx):\n",
        "    print('EXAMPLE {}\\n'.format(i+1))\n",
        "    print('English sentence: {}\\n'.format(eng_sentences[s]))\n",
        "    print('German sentence: {}\\n'.format(ger_sentences[s]))\n",
        "    print('Tokenised German sentence: {}\\n\\n'.format(tokenised_ger_sentences[s]))"
      ]
    },
    {
      "cell_type": "code",
      "execution_count": 24,
      "metadata": {
        "id": "3iUZH8zeo-HV"
      },
      "outputs": [],
      "source": [
        "tokenised_ger_sentences = tf.keras.preprocessing.sequence.pad_sequences(tokenised_ger_sentences, padding='post')"
      ]
    },
    {
      "cell_type": "code",
      "execution_count": 25,
      "metadata": {
        "scrolled": true,
        "id": "7DAmhRvro-HV",
        "outputId": "ac8c1354-b260-48cf-efae-8bdc040a8d20",
        "colab": {
          "base_uri": "https://localhost:8080/"
        }
      },
      "outputs": [
        {
          "output_type": "execute_result",
          "data": {
            "text/plain": [
              "array([[   1,  184,    5, ...,    0,    0,    0],\n",
              "       [   1,  939,  612, ...,    0,    0,    0],\n",
              "       [   1,  613,    5, ...,    0,    0,    0],\n",
              "       ...,\n",
              "       [   1,    6, 1899, ...,    0,    0,    0],\n",
              "       [   1,    6, 1900, ...,    0,    0,    0],\n",
              "       [   1,    6,   17, ...,    0,    0,    0]], dtype=int32)"
            ]
          },
          "metadata": {},
          "execution_count": 25
        }
      ],
      "source": [
        "tokenised_ger_sentences"
      ]
    },
    {
      "cell_type": "code",
      "execution_count": 26,
      "metadata": {
        "id": "1yXXwgNzo-HW",
        "outputId": "9d8eb7c6-8703-43c6-8375-1f963ac7dcb7",
        "colab": {
          "base_uri": "https://localhost:8080/"
        }
      },
      "outputs": [
        {
          "output_type": "execute_result",
          "data": {
            "text/plain": [
              "(4000, 11)"
            ]
          },
          "metadata": {},
          "execution_count": 26
        }
      ],
      "source": [
        "tokenised_ger_sentences.shape"
      ]
    },
    {
      "cell_type": "markdown",
      "metadata": {
        "id": "P7yAiwoFo-HW"
      },
      "source": [
        "## 2. Prepare the data with tf.data.Dataset objects"
      ]
    },
    {
      "cell_type": "markdown",
      "metadata": {
        "id": "8ZHSbFeSo-HX"
      },
      "source": [
        "#### Load the embedding layer\n",
        "As part of the dataset preproceessing for this project, you will use a pre-trained English word embedding module from TensorFlow Hub. The URL for the module is https://tfhub.dev/google/tf2-preview/nnlm-en-dim128-with-normalization/1. This module has also been made available as a complete saved model in the folder `'./models/tf2-preview_nnlm-en-dim128_1'`. \n",
        "\n",
        "This embedding takes a batch of text tokens in a 1-D tensor of strings as input. It then embeds the separate tokens into a 128-dimensional space. \n",
        "\n",
        "The code to load and test the embedding layer is provided for you below.\n",
        "\n",
        "**NB:** this model can also be used as a sentence embedding module. The module will process each token by removing punctuation and splitting on spaces. It then averages the word embeddings over a sentence to give a single embedding vector. However, we will use it only as a word embedding module, and will pass each word in the input sentence as a separate token."
      ]
    },
    {
      "cell_type": "code",
      "execution_count": 27,
      "metadata": {
        "id": "bnl2ZOO-o-HX"
      },
      "outputs": [],
      "source": [
        "# Load embedding module from Tensorflow Hub\n",
        "\n",
        "embedding_layer = hub.KerasLayer(\"https://tfhub.dev/google/tf2-preview/nnlm-en-dim128/1\", \n",
        "                                 output_shape=[128], input_shape=[], dtype=tf.string)"
      ]
    },
    {
      "cell_type": "code",
      "execution_count": 28,
      "metadata": {
        "id": "US3_Km9uo-HY"
      },
      "outputs": [],
      "source": [
        "#embedding_layer = tf.keras.models.load_model('./models/tf2-preview_nnlm-en-dim128_1')"
      ]
    },
    {
      "cell_type": "code",
      "execution_count": 29,
      "metadata": {
        "id": "_BVTkYKho-HY",
        "outputId": "99a5c7c2-6f42-4bdb-bc72-44913c47dd03",
        "colab": {
          "base_uri": "https://localhost:8080/"
        }
      },
      "outputs": [
        {
          "output_type": "execute_result",
          "data": {
            "text/plain": [
              "TensorShape([7, 128])"
            ]
          },
          "metadata": {},
          "execution_count": 29
        }
      ],
      "source": [
        "# Test the layer\n",
        "\n",
        "embedding_layer(tf.constant([\"these\", \"aren't\", \"the\", \"droids\", \"you're\", \"looking\", \"for\"])).shape"
      ]
    },
    {
      "cell_type": "markdown",
      "metadata": {
        "id": "WDvXbRY_o-HY"
      },
      "source": [
        "You should now prepare the training and validation Datasets.\n",
        "\n",
        "* Create a random training and validation set split of the data, reserving e.g. 20% of the data for validation (NB: each English dataset example is a single sentence string, and each German dataset example is a sequence of padded integer tokens).\n",
        "* Load the training and validation sets into a tf.data.Dataset object, passing in a tuple of English and German data for both training and validation sets.\n",
        "* Create a function to map over the datasets that splits each English sentence at spaces. Apply this function to both Dataset objects using the map method. _Hint: look at the tf.strings.split function._\n",
        "* Create a function to map over the datasets that embeds each sequence of English words using the loaded embedding layer/model. Apply this function to both Dataset objects using the map method.\n",
        "* Create a function to filter out dataset examples where the English sentence is more than 13 (embedded) tokens in length. Apply this function to both Dataset objects using the filter method.\n",
        "* Create a function to map over the datasets that pads each English sequence of embeddings with some distinct padding value before the sequence, so that each sequence is length 13. Apply this function to both Dataset objects using the map method. _Hint: look at the tf.pad function. You can extract a Tensor shape using tf.shape; you might also find the tf.math.maximum function useful._\n",
        "* Batch both training and validation Datasets with a batch size of 16.\n",
        "* Print the `element_spec` property for the training and validation Datasets. \n",
        "* Using the Dataset `.take(1)` method, print the shape of the English data example from the training Dataset.\n",
        "* Using the Dataset `.take(1)` method, print the German data example Tensor from the validation Dataset."
      ]
    },
    {
      "cell_type": "code",
      "execution_count": 30,
      "metadata": {
        "id": "q9ScMAISo-HZ"
      },
      "outputs": [],
      "source": [
        "X_train, X_test, y_train, y_test = train_test_split(eng_sentences, tokenised_ger_sentences, test_size = .20)\n",
        "\n",
        "train_dataset = tf.data.Dataset.from_tensor_slices((X_train, y_train))\n",
        "\n",
        "test_dataset = tf.data.Dataset.from_tensor_slices((X_test, y_test))"
      ]
    },
    {
      "cell_type": "code",
      "execution_count": 31,
      "metadata": {
        "id": "lUdDRgd3o-HZ"
      },
      "outputs": [],
      "source": [
        "def split(X, y):\n",
        "    return tf.strings.split(X),y"
      ]
    },
    {
      "cell_type": "code",
      "execution_count": 32,
      "metadata": {
        "id": "uCPZtZzOo-HZ"
      },
      "outputs": [],
      "source": [
        "train_dataset = train_dataset.map(split)\n",
        "\n",
        "test_dataset = test_dataset.map(split)"
      ]
    },
    {
      "cell_type": "code",
      "execution_count": 33,
      "metadata": {
        "id": "P2MhjRjVo-Ha",
        "outputId": "5b1097ca-1ca1-4abe-f5c2-f2a6df49674a",
        "colab": {
          "base_uri": "https://localhost:8080/"
        }
      },
      "outputs": [
        {
          "output_type": "stream",
          "name": "stdout",
          "text": [
            "tf.Tensor([b'is' b'it' b'foggy' b'?'], shape=(4,), dtype=string)\n",
            "tf.Tensor([  1   7   9 848  10   2   0   0   0   0   0], shape=(11,), dtype=int32)\n",
            "tf.Tensor([b'i' b'love' b'rock' b'.'], shape=(4,), dtype=string)\n",
            "tf.Tensor([  1   4  58 819   3   2   0   0   0   0   0], shape=(11,), dtype=int32)\n"
          ]
        }
      ],
      "source": [
        "for x,y in train_dataset.take(2):\n",
        "    print(x)\n",
        "    print(y)"
      ]
    },
    {
      "cell_type": "code",
      "execution_count": 34,
      "metadata": {
        "id": "BWZvTQ5do-Ha"
      },
      "outputs": [],
      "source": [
        "def embed(X,y):\n",
        "    return embedding_layer(X),y\n",
        "    "
      ]
    },
    {
      "cell_type": "code",
      "execution_count": 35,
      "metadata": {
        "id": "S0tiFfrSo-Ha"
      },
      "outputs": [],
      "source": [
        "train_dataset = train_dataset.map(embed)\n",
        "test_dataset = test_dataset.map(embed)"
      ]
    },
    {
      "cell_type": "code",
      "execution_count": 36,
      "metadata": {
        "id": "DTjWQkUfo-Hb"
      },
      "outputs": [],
      "source": [
        "def max_length(X,y):\n",
        "    return tf.shape(X)[0] <= 13"
      ]
    },
    {
      "cell_type": "code",
      "execution_count": 37,
      "metadata": {
        "id": "x2EXKmCDo-Hc",
        "outputId": "380629a2-8473-4013-b056-ce7c35edf17f",
        "colab": {
          "base_uri": "https://localhost:8080/"
        }
      },
      "outputs": [
        {
          "output_type": "execute_result",
          "data": {
            "text/plain": [
              "(TensorSpec(shape=(None, 128), dtype=tf.float32, name=None),\n",
              " TensorSpec(shape=(11,), dtype=tf.int32, name=None))"
            ]
          },
          "metadata": {},
          "execution_count": 37
        }
      ],
      "source": [
        "train_dataset.element_spec"
      ]
    },
    {
      "cell_type": "code",
      "execution_count": 38,
      "metadata": {
        "id": "0q-tIzEdo-Hc"
      },
      "outputs": [],
      "source": [
        "train_dataset = train_dataset.filter(max_length)\n",
        "test_dataset = test_dataset.filter(max_length)"
      ]
    },
    {
      "cell_type": "code",
      "execution_count": 39,
      "metadata": {
        "id": "SWGaqs9Eo-Hd"
      },
      "outputs": [],
      "source": [
        "def pad(X,y):\n",
        "    padding_length = 13 - tf.shape(X)[0]\n",
        "    paddings = [[padding_length,0], [0,0]]\n",
        "    return tf.pad(X, paddings = paddings), y "
      ]
    },
    {
      "cell_type": "code",
      "execution_count": 40,
      "metadata": {
        "id": "z4RMeuaBo-Hd"
      },
      "outputs": [],
      "source": [
        "train_dataset = train_dataset.map(pad)\n",
        "test_dataset = test_dataset.map(pad)"
      ]
    },
    {
      "cell_type": "code",
      "execution_count": 41,
      "metadata": {
        "id": "_iJK-A8Co-He"
      },
      "outputs": [],
      "source": [
        "train_dataset = train_dataset.batch(16, drop_remainder=True)\n",
        "test_dataset = test_dataset.batch(16, drop_remainder=True)"
      ]
    },
    {
      "cell_type": "code",
      "execution_count": 42,
      "metadata": {
        "id": "XnufOyJeo-He",
        "outputId": "a3abbb12-14b7-4b6a-9958-a4e8c8883d8e",
        "colab": {
          "base_uri": "https://localhost:8080/"
        }
      },
      "outputs": [
        {
          "output_type": "stream",
          "name": "stdout",
          "text": [
            "(TensorSpec(shape=(16, None, 128), dtype=tf.float32, name=None), TensorSpec(shape=(16, 11), dtype=tf.int32, name=None))\n",
            "(TensorSpec(shape=(16, None, 128), dtype=tf.float32, name=None), TensorSpec(shape=(16, 11), dtype=tf.int32, name=None))\n"
          ]
        }
      ],
      "source": [
        "print(train_dataset.element_spec)\n",
        "print(test_dataset.element_spec)"
      ]
    },
    {
      "cell_type": "code",
      "execution_count": 43,
      "metadata": {
        "id": "clmU7I_Bo-He",
        "outputId": "52e893ef-e156-4da5-c0c9-b6a507d7416f",
        "colab": {
          "base_uri": "https://localhost:8080/"
        }
      },
      "outputs": [
        {
          "output_type": "stream",
          "name": "stdout",
          "text": [
            "training dataset engish example's shape [ 16  13 128]\n",
            "test dataset german example's shape [16 11]\n"
          ]
        }
      ],
      "source": [
        "for x,y in train_dataset.take(1):\n",
        "    print(\"training dataset engish example's shape {}\".format(tf.shape(x)))\n",
        "for x,y in test_dataset.take(1):\n",
        "    print(\"test dataset german example's shape {}\".format(tf.shape(y)))"
      ]
    },
    {
      "cell_type": "markdown",
      "metadata": {
        "id": "Poj0UkMqo-Hf"
      },
      "source": [
        "## 3. Create the custom layer\n",
        "You will now create a custom layer to add the learned end token embedding to the encoder model:\n",
        "\n"
      ]
    },
    {
      "cell_type": "code",
      "source": [
        "Image(mypath+'encoder schematic.png')"
      ],
      "metadata": {
        "colab": {
          "base_uri": "https://localhost:8080/",
          "height": 444
        },
        "id": "2C1srVGaFyRH",
        "outputId": "cbbaa736-9227-41ca-c1ee-ee467e150ac5"
      },
      "execution_count": 44,
      "outputs": [
        {
          "output_type": "execute_result",
          "data": {
            "image/png": "[encoded data removed]",
            "text/plain": [
              "<IPython.core.display.Image object>"
            ]
          },
          "metadata": {},
          "execution_count": 44
        }
      ]
    },
    {
      "cell_type": "markdown",
      "metadata": {
        "id": "wyf8_sOWo-Hf"
      },
      "source": [
        "You should now build the custom layer.\n",
        "* Using layer subclassing, create a custom layer that takes a batch of English data examples from one of the Datasets, and adds a learned embedded ‘end’ token to the end of each sequence. \n",
        "* This layer should create a TensorFlow Variable (that will be learned during training) that is 128-dimensional (the size of the embedding space). _Hint: you may find it helpful in the call method to use the tf.tile function to replicate the end token embedding across every element in the batch._\n",
        "* Using the Dataset `.take(1)` method, extract a batch of English data examples from the training Dataset and print the shape. Test the custom layer by calling the layer on the English data batch Tensor and print the resulting Tensor shape (the layer should increase the sequence length by one)."
      ]
    },
    {
      "cell_type": "code",
      "execution_count": 45,
      "metadata": {
        "id": "-IyvnK6so-Hf"
      },
      "outputs": [],
      "source": [
        "class EndToken(Layer):\n",
        "    def __init__(self):\n",
        "        super().__init__()\n",
        "        self.end_token = self.add_weight(shape=(1,1,128), initializer='random_normal',name ='end_token')\n",
        "    def call(self,inputs):\n",
        "        #print(tf.shape(inputs))\n",
        "        #return tf.concat([inputs, tf.tile(self.end_token,[16,1,1])], axis=1)      \n",
        "        return tf.concat([inputs, tf.tile(self.end_token,[tf.shape(inputs)[0],1,1])], axis=1)\n",
        "        "
      ]
    },
    {
      "cell_type": "code",
      "execution_count": 46,
      "metadata": {
        "id": "DgdU-uFgo-Hf",
        "outputId": "72326652-8493-43b6-dc18-4df7b0cdf989",
        "colab": {
          "base_uri": "https://localhost:8080/"
        }
      },
      "outputs": [
        {
          "output_type": "execute_result",
          "data": {
            "text/plain": [
              "<__main__.EndToken at 0x7fab727b4c50>"
            ]
          },
          "metadata": {},
          "execution_count": 46
        }
      ],
      "source": [
        "EndToken()"
      ]
    },
    {
      "cell_type": "code",
      "execution_count": 47,
      "metadata": {
        "id": "7R9ss0uoo-Hg",
        "outputId": "7601cd8f-298f-4727-97da-2fae0150e7b6",
        "colab": {
          "base_uri": "https://localhost:8080/"
        }
      },
      "outputs": [
        {
          "output_type": "stream",
          "name": "stdout",
          "text": [
            "shape of the English examples batch [ 16  13 128]\n",
            "shape of the batch with end token [ 16  14 128]\n"
          ]
        }
      ],
      "source": [
        "\n",
        "for x,y in train_dataset.take(1):\n",
        "    print('shape of the English examples batch {}'.format(tf.shape(x)))\n",
        "    print('shape of the batch with end token {}'.format(tf.shape(EndToken()(x))))\n",
        "\n"
      ]
    },
    {
      "cell_type": "markdown",
      "metadata": {
        "id": "QXmMFD45o-Hg"
      },
      "source": [
        "## 4. Build the encoder network\n",
        "The encoder network follows the schematic diagram above. You should now build the RNN encoder model.\n",
        "* Using the functional API, build the encoder network according to the following spec:\n",
        "    * The model will take a batch of sequences of embedded English words as input, as given by the Dataset objects.\n",
        "    * The next layer in the encoder will be the custom layer you created previously, to add a learned end token embedding to the end of the English sequence.\n",
        "    * This is followed by a Masking layer, with the `mask_value` set to the distinct padding value you used when you padded the English sequences with the Dataset preprocessing above.\n",
        "    * The final layer is an LSTM layer with 512 units, which also returns the hidden and cell states.\n",
        "    * The encoder is a multi-output model. There should be two output Tensors of this model: the hidden state and cell states of the LSTM layer. The output of the LSTM layer is unused.\n",
        "* Using the Dataset `.take(1)` method, extract a batch of English data examples from the training Dataset and test the encoder model by calling it on the English data Tensor, and print the shape of the resulting Tensor outputs.\n",
        "* Print the model summary for the encoder network."
      ]
    },
    {
      "cell_type": "code",
      "execution_count": 48,
      "metadata": {
        "id": "mUG1qIVCo-Hh"
      },
      "outputs": [],
      "source": [
        "inputs = Input(shape=(14,128))\n",
        "x = EndToken()(inputs)\n",
        "x = Masking()(x)\n",
        "#hidden_states, last_hidden_state, last_cell_state = LSTM(512, return_sequences=True, return_state=True)(x)\n",
        "output_state, last_hidden_state, last_cell_state = LSTM(512,  return_state=True)(x)\n",
        "outputs = [last_hidden_state, last_cell_state]\n",
        "encoder = Model(inputs=inputs, outputs=outputs)"
      ]
    },
    {
      "cell_type": "code",
      "execution_count": 49,
      "metadata": {
        "id": "tf0fbizJo-Hh",
        "colab": {
          "base_uri": "https://localhost:8080/"
        },
        "outputId": "870b833e-52a9-445c-bbe4-5a95083af3d7"
      },
      "outputs": [
        {
          "output_type": "stream",
          "name": "stdout",
          "text": [
            "tf.Tensor([ 16 512], shape=(2,), dtype=int32)\n",
            "tf.Tensor([ 16 512], shape=(2,), dtype=int32)\n"
          ]
        }
      ],
      "source": [
        "for x,y in train_dataset.take(1):\n",
        "    for t in encoder(x):\n",
        "        print(tf.shape(t))"
      ]
    },
    {
      "cell_type": "code",
      "execution_count": 50,
      "metadata": {
        "scrolled": true,
        "id": "KMCHGOUHo-Hi",
        "colab": {
          "base_uri": "https://localhost:8080/"
        },
        "outputId": "6d6d7e83-d429-41de-ad83-db83b6bed80b"
      },
      "outputs": [
        {
          "output_type": "stream",
          "name": "stdout",
          "text": [
            "Model: \"model\"\n",
            "_________________________________________________________________\n",
            "Layer (type)                 Output Shape              Param #   \n",
            "=================================================================\n",
            "input_1 (InputLayer)         [(None, 14, 128)]         0         \n",
            "_________________________________________________________________\n",
            "end_token_2 (EndToken)       (None, 15, 128)           128       \n",
            "_________________________________________________________________\n",
            "masking (Masking)            (None, 15, 128)           0         \n",
            "_________________________________________________________________\n",
            "lstm (LSTM)                  [(None, 512), (None, 512) 1312768   \n",
            "=================================================================\n",
            "Total params: 1,312,896\n",
            "Trainable params: 1,312,896\n",
            "Non-trainable params: 0\n",
            "_________________________________________________________________\n"
          ]
        }
      ],
      "source": [
        "encoder.summary()"
      ]
    },
    {
      "cell_type": "markdown",
      "metadata": {
        "id": "bwF75O1jo-Hi"
      },
      "source": [
        "## 5. Build the decoder network\n",
        "The decoder network follows the schematic diagram below. \n",
        "\n"
      ]
    },
    {
      "cell_type": "code",
      "source": [
        "  Image(mypath+'decoder schematic.png')"
      ],
      "metadata": {
        "id": "Essv2EpNGuSw",
        "colab": {
          "base_uri": "https://localhost:8080/",
          "height": 519
        },
        "outputId": "183b1215-9320-4ee2-a276-9f9db325f9d3"
      },
      "execution_count": 51,
      "outputs": [
        {
          "output_type": "execute_result",
          "data": {
            "image/png": "[encoded data removed]",
            "text/plain": [
              "<IPython.core.display.Image object>"
            ]
          },
          "metadata": {},
          "execution_count": 51
        }
      ]
    },
    {
      "cell_type": "markdown",
      "metadata": {
        "id": "rddiO-iTo-Hi"
      },
      "source": [
        "You should now build the RNN decoder model.\n",
        "* Using Model subclassing, build the decoder network according to the following spec:\n",
        "    * The initializer should create the following layers:\n",
        "        * An Embedding layer with vocabulary size set to the number of unique German tokens, embedding dimension 128, and set to mask zero values in the input.\n",
        "        * An LSTM layer with 512 units, that returns its hidden and cell states, and also returns sequences.\n",
        "        * A Dense layer with number of units equal to the number of unique German tokens, and no activation function.\n",
        "    * The call method should include the usual `inputs` argument, as well as the additional keyword arguments `hidden_state` and `cell_state`. The default value for these keyword arguments should be `None`.\n",
        "    * The call method should pass the inputs through the Embedding layer, and then through the LSTM layer. If the `hidden_state` and `cell_state` arguments are provided, these should be used for the initial state of the LSTM layer. _Hint: use the_ `initial_state` _keyword argument when calling the LSTM layer on its input._\n",
        "    * The call method should pass the LSTM output sequence through the Dense layer, and return the resulting Tensor, along with the hidden and cell states of the LSTM layer.\n",
        "* Using the Dataset `.take(1)` method, extract a batch of English and German data examples from the training Dataset. Test the decoder model by first calling the encoder model on the English data Tensor to get the hidden and cell states, and then call the decoder model on the German data Tensor and hidden and cell states, and print the shape of the resulting decoder Tensor outputs.\n",
        "* Print the model summary for the decoder network."
      ]
    },
    {
      "cell_type": "code",
      "execution_count": 52,
      "metadata": {
        "id": "OlhJu-lDo-Hj"
      },
      "outputs": [],
      "source": [
        "class Decoder(Model):\n",
        "    def __init__(self):\n",
        "        super().__init__()\n",
        "        self.embedding = Embedding(len(tokenizer.word_index)+1, 128, mask_zero=True)\n",
        "        self.lstm = LSTM(512, return_sequences=True, return_state=True)\n",
        "        self.dense = Dense(len(tokenizer.word_index)+1)#word indexing starts at one in tokenizer.word_index\n",
        "                                                       #in one hot encoding position 0 in output dense vector corresponds to sparse value 0\n",
        "                                                       #position 5742 corresponds to sparse value 5743\n",
        "\n",
        "        \n",
        "    def call(self, inputs, hidden_state=None, cell_state=None):\n",
        "        x = self.embedding(inputs)\n",
        "        if (hidden_state is not None) and (cell_state is not None):\n",
        "            hidden_states, last_hidden_state, last_cell_state = \\\n",
        "                    self.lstm(x, initial_state = [hidden_state, cell_state])\n",
        "                              \n",
        "        else: \n",
        "            hidden_states, last_hidden_state, last_cell_state = self.lstm(x)\n",
        "        output = self.dense(hidden_states)\n",
        "        return output, last_hidden_state, last_cell_state\n",
        "            "
      ]
    },
    {
      "cell_type": "code",
      "execution_count": 53,
      "metadata": {
        "id": "vl6icgbRo-Hj"
      },
      "outputs": [],
      "source": [
        "decoder = Decoder()"
      ]
    },
    {
      "cell_type": "code",
      "execution_count": 54,
      "metadata": {
        "id": "lwmPqFhLo-Hk",
        "colab": {
          "base_uri": "https://localhost:8080/"
        },
        "outputId": "f06f7cb4-a107-46ca-dfa6-4a9e0ec793c6"
      },
      "outputs": [
        {
          "output_type": "stream",
          "name": "stdout",
          "text": [
            "tf.Tensor([  16   11 1902], shape=(3,), dtype=int32)\n",
            "tf.Tensor([ 16 512], shape=(2,), dtype=int32)\n",
            "tf.Tensor([ 16 512], shape=(2,), dtype=int32)\n"
          ]
        }
      ],
      "source": [
        "for x,y in train_dataset.take(1):\n",
        "    hidden_state, cell_state = encoder(x)\n",
        "    output = decoder(y, hidden_state, cell_state)\n",
        "    for t in output:\n",
        "        print(tf.shape(t))"
      ]
    },
    {
      "cell_type": "code",
      "execution_count": 55,
      "metadata": {
        "id": "xubVTH_vo-Hk",
        "colab": {
          "base_uri": "https://localhost:8080/"
        },
        "outputId": "f43501c8-75fa-4b19-e6e4-19fb2e6ca439"
      },
      "outputs": [
        {
          "output_type": "stream",
          "name": "stdout",
          "text": [
            "Model: \"decoder\"\n",
            "_________________________________________________________________\n",
            "Layer (type)                 Output Shape              Param #   \n",
            "=================================================================\n",
            "embedding (Embedding)        multiple                  243456    \n",
            "_________________________________________________________________\n",
            "lstm_1 (LSTM)                multiple                  1312768   \n",
            "_________________________________________________________________\n",
            "dense (Dense)                multiple                  975726    \n",
            "=================================================================\n",
            "Total params: 2,531,950\n",
            "Trainable params: 2,531,950\n",
            "Non-trainable params: 0\n",
            "_________________________________________________________________\n"
          ]
        }
      ],
      "source": [
        "decoder.summary()"
      ]
    },
    {
      "cell_type": "markdown",
      "metadata": {
        "id": "EII7dOJAo-Hk"
      },
      "source": [
        "## 6. Make a custom training loop\n",
        "You should now write a custom training loop to train your custom neural translation model.\n",
        "* Define a function that takes a Tensor batch of German data (as extracted from the training Dataset), and returns a tuple containing German inputs and outputs for the decoder model (refer to schematic diagram above).\n",
        "* Define a function that computes the forward and backward pass for your translation model. This function should take an English input, German input and German output as arguments, and should do the following:\n",
        "    * Pass the English input into the encoder, to get the hidden and cell states of the encoder LSTM.\n",
        "    * These hidden and cell states are then passed into the decoder, along with the German inputs, which returns a sequence of outputs (the hidden and cell state outputs of the decoder LSTM are unused in this function).\n",
        "    * The loss should then be computed between the decoder outputs and the German output function argument.\n",
        "    * The function returns the loss and gradients with respect to the encoder and decoder’s trainable variables.\n",
        "    * Decorate the function with @tf.function\n",
        "* Define and run a custom training loop for a number of epochs (for you to choose) that does the following:\n",
        "    * Iterates through the training dataset, and creates decoder inputs and outputs from the German sequences.\n",
        "    * Updates the parameters of the translation model using the gradients of the function above and an optimizer object.\n",
        "    * Every epoch, compute the validation loss on a number of batches from the validation and save the epoch training and validation losses.\n",
        "* Plot the learning curves for loss vs epoch for both training and validation sets.\n",
        "\n",
        "_Hint: This model is computationally demanding to train. The quality of the model or length of training is not a factor in the grading rubric. However, to obtain a better model we recommend using the GPU accelerator hardware on Colab._"
      ]
    },
    {
      "cell_type": "code",
      "execution_count": 56,
      "metadata": {
        "id": "wzMfVzYwo-Hl"
      },
      "outputs": [],
      "source": [
        "def input_and_target_from_german_data(german_data):\n",
        "    return german_data[:,:-1], german_data[:,1:]"
      ]
    },
    {
      "cell_type": "code",
      "execution_count": 57,
      "metadata": {
        "id": "b8vXIC7Ko-Hl"
      },
      "outputs": [],
      "source": [
        "loss = tf.keras.losses.SparseCategoricalCrossentropy(from_logits=True)\n",
        "trainable_variables = encoder.trainable_variables + decoder.trainable_variables"
      ]
    },
    {
      "cell_type": "code",
      "execution_count": 58,
      "metadata": {
        "id": "VuNH__vHo-Hm"
      },
      "outputs": [],
      "source": [
        "@tf.function\n",
        "def fw_and_bw_pass(eng_input, ger_input, ger_target):\n",
        "    with tf.GradientTape() as tape:\n",
        "        hidden_state, cell_state = encoder(eng_input)\n",
        "        ger_output, _, _ = decoder(ger_input, hidden_state, cell_state)\n",
        "        #print(tf.shape(ger_target))\n",
        "        #print(tf.shape(ger_output))\n",
        "        current_loss = loss(ger_target, ger_output)\n",
        "        grads = tape.gradient(current_loss, trainable_variables)\n",
        "        return current_loss, grads\n",
        "    "
      ]
    },
    {
      "cell_type": "code",
      "execution_count": 59,
      "metadata": {
        "id": "X1HST-WPo-Hm"
      },
      "outputs": [],
      "source": [
        "num_epochs = 3"
      ]
    },
    {
      "cell_type": "code",
      "execution_count": 60,
      "metadata": {
        "id": "Ji1axgAso-Hm"
      },
      "outputs": [],
      "source": [
        "optimiser = tf.keras.optimizers.Adam()\n",
        "epoch_training_losses = []\n",
        "epoch_validation_losses = []\n"
      ]
    },
    {
      "cell_type": "code",
      "execution_count": 61,
      "metadata": {
        "id": "9J6o85JZo-Hn",
        "colab": {
          "base_uri": "https://localhost:8080/"
        },
        "outputId": "c0f4145a-8827-4b9a-d3d1-62d1e1feadfd"
      },
      "outputs": [
        {
          "output_type": "stream",
          "name": "stdout",
          "text": [
            "epoch 000\n",
            "training batch\n",
            "\n",
            " 0 1 2 3 4 5 6 7 8 9 10 11 12 13 14 15 16 17 18 19\n",
            "\n",
            " 20 21 22 23 24 25 26 27 28 29 30 31 32 33 34 35 36 37 38 39\n",
            "\n",
            " 40 41 42 43 44 45 46 47 48 49 50 51 52 53 54 55 56 57 58 59\n",
            "\n",
            " 60 61 62 63 64 65 66 67 68 69 70 71 72 73 74 75 76 77 78 79\n",
            "\n",
            " 80 81 82 83 84 85 86 87 88 89 90 91 92 93 94 95 96 97 98 99\n",
            "\n",
            " 100 101 102 103 104 105 106 107 108 109 110 111 112 113 114 115 116 117 118 119\n",
            "\n",
            " 120 121 122 123 124 125 126 127 128 129 130 131 132 133 134 135 136 137 138 139\n",
            "\n",
            " 140 141 142 143 144 145 146 147 148 149 150 151 152 153 154 155 156 157 158 159\n",
            "\n",
            " 160 161 162 163 164 165 166 167 168 169 170 171 172 173 174 175 176 177 178 179\n",
            "\n",
            " 180 181 182 183 184 185 186 187 188 189 190 191 192 193 194 195 196 197 198 199\n",
            "epoch training loss 2.409\n",
            "epoch training time : 9.9 minutes\n",
            "validation batch\n",
            "\n",
            " 0 1 2 3 4 5 6 7 8 9 10 11 12 13 14 15 16 17 18 19\n",
            "\n",
            " 20 21 22 23 24 25 26 27 28 29 30 31 32 33 34 35 36 37 38 39\n",
            "\n",
            " 40 41 42 43 44 45 46 47 48 49\n",
            "validation loss 1.853\n",
            "epoch validation time : 2.3 minutes\n",
            "epoch 001\n",
            "training batch\n",
            "\n",
            " 0 1 2 3 4 5 6 7 8 9 10 11 12 13 14 15 16 17 18 19\n",
            "\n",
            " 20 21 22 23 24 25 26 27 28 29 30 31 32 33 34 35 36 37 38 39\n",
            "\n",
            " 40 41 42 43 44 45 46 47 48 49 50 51 52 53 54 55 56 57 58 59\n",
            "\n",
            " 60 61 62 63 64 65 66 67 68 69 70 71 72 73 74 75 76 77 78 79\n",
            "\n",
            " 80 81 82 83 84 85 86 87 88 89 90 91 92 93 94 95 96 97 98 99\n",
            "\n",
            " 100 101 102 103 104 105 106 107 108 109 110 111 112 113 114 115 116 117 118 119\n",
            "\n",
            " 120 121 122 123 124 125 126 127 128 129 130 131 132 133 134 135 136 137 138 139\n",
            "\n",
            " 140 141 142 143 144 145 146 147 148 149 150 151 152 153 154 155 156 157 158 159\n",
            "\n",
            " 160 161 162 163 164 165 166 167 168 169 170 171 172 173 174 175 176 177 178 179\n",
            "\n",
            " 180 181 182 183 184 185 186 187 188 189 190 191 192 193 194 195 196 197 198 199\n",
            "epoch training loss 1.624\n",
            "epoch training time : 9.8 minutes\n",
            "validation batch\n",
            "\n",
            " 0 1 2 3 4 5 6 7 8 9 10 11 12 13 14 15 16 17 18 19\n",
            "\n",
            " 20 21 22 23 24 25 26 27 28 29 30 31 32 33 34 35 36 37 38 39\n",
            "\n",
            " 40 41 42 43 44 45 46 47 48 49\n",
            "validation loss 1.631\n",
            "epoch validation time : 2.3 minutes\n",
            "epoch 002\n",
            "training batch\n",
            "\n",
            " 0 1 2 3 4 5 6 7 8 9 10 11 12 13 14 15 16 17 18 19\n",
            "\n",
            " 20 21 22 23 24 25 26 27 28 29 30 31 32 33 34 35 36 37 38 39\n",
            "\n",
            " 40 41 42 43 44 45 46 47 48 49 50 51 52 53 54 55 56 57 58 59\n",
            "\n",
            " 60 61 62 63 64 65 66 67 68 69 70 71 72 73 74 75 76 77 78 79\n",
            "\n",
            " 80 81 82 83 84 85 86 87 88 89 90 91 92 93 94 95 96 97 98 99\n",
            "\n",
            " 100 101 102 103 104 105 106 107 108 109 110 111 112 113 114 115 116 117 118 119\n",
            "\n",
            " 120 121 122 123 124 125 126 127 128 129 130 131 132 133 134 135 136 137 138 139\n",
            "\n",
            " 140 141 142 143 144 145 146 147 148 149 150 151 152 153 154 155 156 157 158 159\n",
            "\n",
            " 160 161 162 163 164 165 166 167 168 169 170 171 172 173 174 175 176 177 178 179\n",
            "\n",
            " 180 181 182 183 184 185 186 187 188 189 190 191 192 193 194 195 196 197 198 199\n",
            "epoch training loss 1.418\n",
            "epoch training time : 9.8 minutes\n",
            "validation batch\n",
            "\n",
            " 0 1 2 3 4 5 6 7 8 9 10 11 12 13 14 15 16 17 18 19\n",
            "\n",
            " 20 21 22 23 24 25 26 27 28 29 30 31 32 33 34 35 36 37 38 39\n",
            "\n",
            " 40 41 42 43 44 45 46 47 48 49\n",
            "validation loss 1.553\n",
            "epoch validation time : 2.3 minutes\n"
          ]
        }
      ],
      "source": [
        "for epoch in range(num_epochs):\n",
        "    print('epoch {:03d}'.format(epoch))\n",
        "    training_batch_losses = []\n",
        "    epoch_training_time_start = time.time()\n",
        "    print('training batch', end ='')\n",
        "    for batch,(eng_data, ger_data) in enumerate(train_dataset):\n",
        "        if batch % 20 == 0:\n",
        "          print('\\n')  \n",
        "        print(' {:,.0f}'.format(batch), end ='')\n",
        "        ger_input, ger_target = input_and_target_from_german_data(ger_data)\n",
        "        current_loss, grads = fw_and_bw_pass(eng_data, ger_input, ger_target)\n",
        "        optimiser.apply_gradients(zip(grads, trainable_variables))\n",
        "        training_batch_losses.append(current_loss)\n",
        "    epoch_training_loss = np.mean(training_batch_losses)\n",
        "    print('\\nepoch training loss {:.3f}'.format(epoch_training_loss))\n",
        "    epoch_training_losses.append(epoch_training_loss)\n",
        "    epoch_training_time = time.time() - epoch_training_time_start\n",
        "    print('epoch training time : {:.1f} minutes'.format(epoch_training_time/60))\n",
        "    \n",
        "    validation_batch_losses = []\n",
        "    epoch_validation_time_start = time.time()\n",
        "    print('validation batch', end ='')\n",
        "    for batch,(eng_data, ger_data) in enumerate(test_dataset):\n",
        "        if batch % 20 == 0:\n",
        "          print('\\n')\n",
        "        print(' {:,.0f}'.format(batch), end ='')\n",
        "        ger_input, ger_target = input_and_target_from_german_data(ger_data)\n",
        "        hidden_state, cell_state = encoder(eng_data)\n",
        "        ger_output, _, _ =decoder(ger_input, hidden_state, cell_state)\n",
        "        validation_batch_losses.append(loss(ger_target, ger_output))\n",
        "    epoch_validation_loss = np.mean(validation_batch_losses)\n",
        "    print('\\nvalidation loss {:.3f}'.format(epoch_validation_loss))\n",
        "    epoch_validation_losses.append(epoch_validation_loss)\n",
        "    epoch_validation_time = time.time() - epoch_validation_time_start\n",
        "    print('epoch validation time : {:.1f} minutes'.format(epoch_validation_time/60))\n",
        "        "
      ]
    },
    {
      "cell_type": "code",
      "source": [
        "plt.plot(epoch_training_losses, label='training loss')\n",
        "plt.plot(epoch_validation_losses, label='validation loss')\n",
        "plt.legend()\n",
        "plt.xlabel('epoch')\n",
        "plt.ylabel('loss')"
      ],
      "metadata": {
        "colab": {
          "base_uri": "https://localhost:8080/",
          "height": 297
        },
        "id": "aCKF4JGct2TQ",
        "outputId": "9c0ffdb6-4e28-49c6-e876-b65a5aaa3f57"
      },
      "execution_count": 62,
      "outputs": [
        {
          "output_type": "execute_result",
          "data": {
            "text/plain": [
              "Text(0, 0.5, 'loss')"
            ]
          },
          "metadata": {},
          "execution_count": 62
        },
        {
          "output_type": "display_data",
          "data": {
            "text/plain": [
              "<Figure size 432x288 with 1 Axes>"
            ],
            "image/png": "[encoded data removed]"
          },
          "metadata": {
            "needs_background": "light"
          }
        }
      ]
    },
    {
      "cell_type": "code",
      "source": [
        "epoch_training_loss"
      ],
      "metadata": {
        "colab": {
          "base_uri": "https://localhost:8080/"
        },
        "id": "0qKDpJ7R2yeQ",
        "outputId": "b1c59296-ab08-4ae0-9ecd-6f2a24dfc071"
      },
      "execution_count": 63,
      "outputs": [
        {
          "output_type": "execute_result",
          "data": {
            "text/plain": [
              "1.4181594"
            ]
          },
          "metadata": {},
          "execution_count": 63
        }
      ]
    },
    {
      "cell_type": "code",
      "source": [
        "#encoder.save(mypath + 'encoder ' + datetime.datetime.now().strftime('%Y-%m-%d:%H-%M'))\n",
        "#decocer.save(mypath + 'decoder ' + datetime.datetime.now().strftime('%Y-%m-%d:%H-%M'))\n",
        "#encoder.save(mypath + 'encoder ')\n",
        "#decoder.save(mypath + 'decoder ')"
      ],
      "metadata": {
        "id": "BLGngcXKtEEj"
      },
      "execution_count": 64,
      "outputs": []
    },
    {
      "cell_type": "code",
      "source": [
        "mypath + 'encoder ' + datetime.datetime.now().strftime('%Y-%m-%d:%H-%M')"
      ],
      "metadata": {
        "colab": {
          "base_uri": "https://localhost:8080/",
          "height": 36
        },
        "id": "KuzetBE14AsH",
        "outputId": "86b4a622-59f7-48a7-964c-ef0dde8082ef"
      },
      "execution_count": 65,
      "outputs": [
        {
          "output_type": "execute_result",
          "data": {
            "text/plain": [
              "'/content/gdrive/My Drive/Colab Notebooks/Tensorflow_2/encoder 2022-08-21:15-41'"
            ],
            "application/vnd.google.colaboratory.intrinsic+json": {
              "type": "string"
            }
          },
          "metadata": {},
          "execution_count": 65
        }
      ]
    },
    {
      "cell_type": "markdown",
      "metadata": {
        "id": "H4qwypOqo-Hn"
      },
      "source": [
        "## 7. Use the model to translate\n",
        "Now it's time to put your model into practice! You should run your translation for five randomly sampled English sentences from the dataset. For each sentence, the process is as follows:\n",
        "* Preprocess and embed the English sentence according to the model requirements.\n",
        "* Pass the embedded sentence through the encoder to get the encoder hidden and cell states.\n",
        "* Starting with the special  `\"<start>\"` token, use this token and the final encoder hidden and cell states to get the one-step prediction from the decoder, as well as the decoder’s updated hidden and cell states.\n",
        "* Create a loop to get the next step prediction and updated hidden and cell states from the decoder, using the most recent hidden and cell states. Terminate the loop when the `\"<end>\"` token is emitted, or when the sentence has reached a maximum length.\n",
        "* Decode the output token sequence into German text and print the English text and the model's German translation."
      ]
    },
    {
      "cell_type": "code",
      "execution_count": 66,
      "metadata": {
        "id": "B7LSCYK2o-Ho",
        "colab": {
          "base_uri": "https://localhost:8080/"
        },
        "outputId": "94951317-c1f5-4049-ea27-237e04bfe3bb"
      },
      "outputs": [
        {
          "output_type": "execute_result",
          "data": {
            "text/plain": [
              "['hi .',\n",
              " 'hi .',\n",
              " 'run !',\n",
              " 'wow !',\n",
              " 'wow !',\n",
              " 'fire !',\n",
              " 'help !',\n",
              " 'help !',\n",
              " 'stop !',\n",
              " 'wait !']"
            ]
          },
          "metadata": {},
          "execution_count": 66
        }
      ],
      "source": [
        "eng_sentences[:10]"
      ]
    },
    {
      "cell_type": "code",
      "source": [
        "eng_sentences =  [s for s in eng_sentences if len(s)<=13]"
      ],
      "metadata": {
        "id": "SEAJVCo7DBUd"
      },
      "execution_count": 67,
      "outputs": []
    },
    {
      "cell_type": "code",
      "source": [
        "examples = list(np.random.choice(eng_sentences, 5))"
      ],
      "metadata": {
        "id": "mMNPxOFfDU2L"
      },
      "execution_count": 68,
      "outputs": []
    },
    {
      "cell_type": "code",
      "source": [
        "examples"
      ],
      "metadata": {
        "colab": {
          "base_uri": "https://localhost:8080/"
        },
        "id": "bz6tjr07F-LL",
        "outputId": "d450fba9-7be0-4a19-bb0c-887cb0504dee"
      },
      "execution_count": 69,
      "outputs": [
        {
          "output_type": "execute_result",
          "data": {
            "text/plain": [
              "['go away !', 'look at me .', 'tom is sick .', 'who stayed ?', 'you drive .']"
            ]
          },
          "metadata": {},
          "execution_count": 69
        }
      ]
    },
    {
      "cell_type": "code",
      "source": [
        "def encoder_state_from_eng_sentence(eng_sentence):\n",
        "  embeddings = embedding_layer(tf.convert_to_tensor(eng_sentence.split(' ')))\n",
        "  padding_length = 13 - tf.shape(embeddings)[0]\n",
        "  paddings = [[padding_length,0], [0,0]]\n",
        "  embeddings = tf.pad(embeddings, paddings = paddings)\n",
        "  embeddings = tf.expand_dims(embeddings, 0)#adding the batch dimension \n",
        "  hidden_state, cell_state = encoder(embeddings)\n",
        "  return hidden_state, cell_state\n"
      ],
      "metadata": {
        "id": "27ARobRLapf3"
      },
      "execution_count": 70,
      "outputs": []
    },
    {
      "cell_type": "code",
      "source": [
        "def ger_sentence_from_encoder_output(hidden_state, cell_state, max_sentence_len = 13):\n",
        "  start_token_sequence = tokenizer.texts_to_sequences(['<start>'])\n",
        "  input_tensor = tf.convert_to_tensor(start_token_sequence)\n",
        "  output_token_sequence =[[]]#includes the batch dimension\n",
        "  for _ in range(max_sentence_len):\n",
        "    logits, hidden_state, cell_state = decoder(input_tensor, hidden_state, cell_state)\n",
        "    decoded_token = tf.squeeze(tf.argmax(logits, axis=-1)).numpy()#take the max along the feature axis\n",
        "    if decoded_token == tokenizer.word_index['<end>']:\n",
        "      break  \n",
        "    output_token_sequence[0].append(decoded_token)#appends along the timestep dimension\n",
        "    input_tensor = tf.convert_to_tensor([[decoded_token]])\n",
        "  return ' '.join(tokenizer.sequences_to_texts(output_token_sequence))\n",
        "\n",
        "\n"
      ],
      "metadata": {
        "id": "O27mE7SM0AAX"
      },
      "execution_count": 71,
      "outputs": []
    },
    {
      "cell_type": "code",
      "source": [
        "for eng_sentence in examples:\n",
        "  print('English sentence : {}'.format(eng_sentence))\n",
        "  hidden_state, cell_state = encoder_state_from_eng_sentence(eng_sentence)\n",
        "  ger_sentence = ger_sentence_from_encoder_output(hidden_state, cell_state)\n",
        "  print('German sentence : {}'.format(ger_sentence))\n",
        "  print('\\n')\n"
      ],
      "metadata": {
        "colab": {
          "base_uri": "https://localhost:8080/"
        },
        "id": "Qxf62jsX2y4_",
        "outputId": "cbc0c346-17ea-4e54-a329-8c02cef253ef"
      },
      "execution_count": 72,
      "outputs": [
        {
          "output_type": "stream",
          "name": "stdout",
          "text": [
            "English sentence : go away !\n",
            "German sentence : geh dich !\n",
            "\n",
            "\n",
            "English sentence : look at me .\n",
            "German sentence : komm nicht !\n",
            "\n",
            "\n",
            "English sentence : tom is sick .\n",
            "German sentence : tom hat tom .\n",
            "\n",
            "\n",
            "English sentence : who stayed ?\n",
            "German sentence : wer ist tom ?\n",
            "\n",
            "\n",
            "English sentence : you drive .\n",
            "German sentence : sie sind .\n",
            "\n",
            "\n"
          ]
        }
      ]
    },
    {
      "cell_type": "code",
      "source": [
        ""
      ],
      "metadata": {
        "id": "wQkJkfs35PST"
      },
      "execution_count": 72,
      "outputs": []
    }
  ],
  "metadata": {
    "kernelspec": {
      "display_name": "Python 3",
      "language": "python",
      "name": "python3"
    },
    "language_info": {
      "codemirror_mode": {
        "name": "ipython",
        "version": 3
      },
      "file_extension": ".py",
      "mimetype": "text/x-python",
      "name": "python",
      "nbconvert_exporter": "python",
      "pygments_lexer": "ipython3",
      "version": "3.7.1"
    },
    "colab": {
      "name": "Capstone Project.ipynb",
      "provenance": [],
      "collapsed_sections": []
    }
  },
  "nbformat": 4,
  "nbformat_minor": 0
}